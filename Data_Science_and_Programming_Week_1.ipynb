{
  "nbformat": 4,
  "nbformat_minor": 0,
  "metadata": {
    "colab": {
      "name": "Data Science and Programming Week 1.ipynb",
      "provenance": [],
      "collapsed_sections": [],
      "authorship_tag": "ABX9TyMy65VzJAcd7gbnf1cCdV2l",
      "include_colab_link": true
    },
    "kernelspec": {
      "name": "python3",
      "display_name": "Python 3"
    },
    "language_info": {
      "name": "python"
    }
  },
  "cells": [
    {
      "cell_type": "markdown",
      "metadata": {
        "id": "view-in-github",
        "colab_type": "text"
      },
      "source": [
        "<a href=\"https://colab.research.google.com/github/jlarner/banana/blob/master/Data_Science_and_Programming_Week_1.ipynb\" target=\"_parent\"><img src=\"https://colab.research.google.com/assets/colab-badge.svg\" alt=\"Open In Colab\"/></a>"
      ]
    },
    {
      "cell_type": "markdown",
      "source": [
        "**What is data science?**\n",
        "\n",
        "The term “data science” was coined in 2001, attempting to describe a new field. Some argue that it’s nothing more than\n",
        "the natural evolution of statistics, and shouldn’t be called a new field at all. But others argue that it’s more interdisciplinary.\n",
        "For example, in The Data Science Design Manual (2017), Steven Skiena says the following.\n",
        "I think of data science as lying at the intersection of computer science, statistics, and substantive application\n",
        "domains. From computer science comes machine learning and high-performance computing technologies\n",
        "for dealing with scale. From statistics comes a long tradition of exploratory data analysis, significance testing,\n",
        "and visualization. From application domains in business and the sciences comes challenges worthy of battle,\n",
        "and evaluation standards to assess when they have been adequately conquered.\n",
        "This echoes a famous blog post by Drew Conway in 2013, called The Data Science Venn Diagram, in whic"
      ],
      "metadata": {
        "id": "XO5ozfyvaAl8"
      }
    },
    {
      "cell_type": "code",
      "execution_count": null,
      "metadata": {
        "id": "AQ65V0JVZ3Zc"
      },
      "outputs": [],
      "source": [
        ""
      ]
    }
  ]
}